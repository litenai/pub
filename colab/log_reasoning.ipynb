{
  "cells": [
    {
      "cell_type": "markdown",
      "metadata": {
        "id": "6MO5_rVavngO"
      },
      "source": [
        "Install litenai. It would install all the required components."
      ]
    },
    {
      "cell_type": "code",
      "execution_count": null,
      "metadata": {
        "id": "twaF04jyAp_j"
      },
      "outputs": [],
      "source": [
        "!pip install --quiet litenai-0.0.53-py3-none-any.whl"
      ]
    },
    {
      "cell_type": "markdown",
      "metadata": {
        "id": "yoHucst2v9eo"
      },
      "source": [
        "For colab notebooks, install holoviews and bokeh"
      ]
    },
    {
      "cell_type": "code",
      "execution_count": null,
      "metadata": {
        "id": "fbKp5tCzv8tB"
      },
      "outputs": [],
      "source": [
        "!pip install --quiet jupyter_bokeh\n",
        "!pip install --quiet holoviews==1.16"
      ]
    },
    {
      "cell_type": "markdown",
      "metadata": {
        "id": "-FhQLhQ3Bk8s"
      },
      "source": [
        "Clone sample logfiles into /content directory."
      ]
    },
    {
      "cell_type": "code",
      "execution_count": null,
      "metadata": {
        "id": "ihzaUGJEPTSz"
      },
      "outputs": [],
      "source": [
        "!git clone https://github.com/litenai/samplelogfiles"
      ]
    },
    {
      "cell_type": "markdown",
      "metadata": {
        "id": "Ia_kYTp7Paju"
      },
      "source": [
        "After cloning go to Files on left pane, open /content/samplelogfiles/litenai-config.yml by clicking on it, and update with a valid OPENAI API Key.\n",
        "\n",
        "Once the yaml file is changed, there is no need to do it again if rerunning the collab notebooks"
      ]
    },
    {
      "cell_type": "markdown",
      "metadata": {
        "id": "Xu6bpsO3PiaB"
      },
      "source": [
        "Set JAVA_HOME and SPARK_HOME for proper spark operations. Set LITEN_CONFIG_FILE to the modified liten.yaml"
      ]
    },
    {
      "cell_type": "code",
      "execution_count": null,
      "metadata": {
        "id": "sdOOq4twHN1K"
      },
      "outputs": [],
      "source": [
        "import os\n",
        "os.environ[\"JAVA_HOME\"] = \"/usr/lib/jvm/java-11-openjdk-amd64\"\n",
        "os.environ[\"LITEN_CONFIG_FILE\"] = \"/content/samplelogfiles/litenai-config.yml\""
      ]
    },
    {
      "cell_type": "markdown",
      "metadata": {
        "id": "6UT4wHyV9W33"
      },
      "source": [
        "Import required libraries to run liten server."
      ]
    },
    {
      "cell_type": "code",
      "execution_count": null,
      "metadata": {
        "id": "g2AW38N0wRG7"
      },
      "outputs": [],
      "source": [
        "import os\n",
        "# import pandas\n",
        "import pandas as pd\n",
        "# import spark libs\n",
        "import pyspark\n",
        "from pyspark.sql.types import StructType,StructField, StringType, IntegerType, TimestampType\n",
        "# import plot libs\n",
        "import panel\n",
        "import hvplot\n",
        "import hvplot.pandas\n",
        "%env HV_DOC_HTML=true"
      ]
    },
    {
      "cell_type": "code",
      "execution_count": null,
      "metadata": {
        "id": "LtWDz5mj9W34"
      },
      "outputs": [],
      "source": [
        "import litenai"
      ]
    },
    {
      "cell_type": "markdown",
      "source": [
        "This s"
      ],
      "metadata": {
        "id": "z6SJtzQV-9b7"
      }
    },
    {
      "cell_type": "code",
      "execution_count": null,
      "metadata": {
        "id": "5UpeB_aQ9W35"
      },
      "outputs": [],
      "source": [
        "server = litenai.start_server(port=80, address=\"0.0.0.0\")"
      ]
    },
    {
      "cell_type": "code",
      "execution_count": null,
      "metadata": {
        "id": "tE8oWFuE9W35"
      },
      "outputs": [],
      "source": [
        "!pip install pyngrok --quiet\n",
        "from pyngrok import ngrok\n",
        "# Terminate open tunnels if exist\n",
        "ngrok.kill()\n",
        "\n",
        "# Setting the authtoken (optional)\n",
        "# Get your authtoken from https://dashboard.ngrok.com/auth\n",
        "NGROK_AUTH_TOKEN = \"<add your ngrok token here>\"\n",
        "ngrok.set_auth_token(NGROK_AUTH_TOKEN)\n",
        "\n",
        "# Open an HTTPs tunnel on port 80 for http://localhost:80\n",
        "public_url = ngrok.connect(addr=\"80\")\n",
        "print(\"Tracking URL:\", public_url)"
      ]
    },
    {
      "cell_type": "markdown",
      "source": [
        "You can now stop the server."
      ],
      "metadata": {
        "id": "pifPKpyl_qk8"
      }
    },
    {
      "cell_type": "code",
      "source": [
        "server.stop()"
      ],
      "metadata": {
        "id": "A5dvEg-u_hBI"
      },
      "execution_count": null,
      "outputs": []
    },
    {
      "cell_type": "markdown",
      "metadata": {
        "id": "AbqqOpqwjNDT"
      },
      "source": [
        "In this example. We show how we can use litenai using a single send API command. send orchestrates the agent to complete the prompts."
      ]
    },
    {
      "cell_type": "code",
      "execution_count": null,
      "metadata": {
        "id": "U2QHxJ7XwsOE"
      },
      "outputs": [],
      "source": [
        "config = litenai.Config()\n",
        "ten = litenai.Session.get_or_create(name='test', config=config)"
      ]
    },
    {
      "cell_type": "markdown",
      "metadata": {
        "id": "jznzPGjLhIxo"
      },
      "source": [
        "Run sample spark, pandas and plots to ensure that setup is all good. Run a sample queries on emailaccesslog table."
      ]
    },
    {
      "cell_type": "code",
      "execution_count": null,
      "metadata": {
        "id": "sp9IJ_mEVCqx"
      },
      "outputs": [],
      "source": [
        "print(f\"Print a few lines\")\n",
        "df = ten.spark.sql(\"select * from emailaccesslog\")\n",
        "df.show(5)\n",
        "print(f\"Total number of log lines\")\n",
        "cntDf = ten.spark.sql(\"select count(*) from emailaccesslog\")\n",
        "cntDf.show()\n",
        "print(f\"Request counts which were redirected\")\n",
        "st3xxDf = ten.spark.sql(\"SELECT Status, COUNT(*) FROM emailaccesslog WHERE Status LIKE '2%%' GROUP BY Status\")\n",
        "st3xxDf.show(5)"
      ]
    },
    {
      "cell_type": "code",
      "execution_count": null,
      "metadata": {
        "id": "EFz0JpvEVFpK"
      },
      "outputs": [],
      "source": [
        "st17Df = ten.spark.sql(\"SELECT * FROM emailaccesslog\")\n",
        "pdf = st17Df.toPandas()\n",
        "pdf.head()"
      ]
    },
    {
      "cell_type": "code",
      "execution_count": null,
      "metadata": {
        "id": "4Qqd-aswVJeC"
      },
      "outputs": [],
      "source": [
        "hvplot.extension('bokeh')\n",
        "plot = pdf.hvplot.scatter(x='status',y='latency',title='Latencies for various status')\n",
        "plot"
      ]
    },
    {
      "cell_type": "markdown",
      "metadata": {
        "id": "ljy14_d0oTGD"
      },
      "source": [
        "These log tables are loaded as part of log analysis.<br>\n",
        "*`emailserverlog`* Table of email access server log<br>\n",
        "*`syslog`* - Lunux system log file<br>\n",
        "*`ipnetlog`* - network ip log file<br>\n",
        "In the following cells, we will show how Liten can be used to observe and reason the data out."
      ]
    },
    {
      "cell_type": "markdown",
      "metadata": {
        "id": "4jdRc5C_kAkA"
      },
      "source": [
        "send is one API to talk with Liten Chat. From the prompt, Liten orchestrates the right agent to complete the action."
      ]
    },
    {
      "cell_type": "code",
      "execution_count": null,
      "metadata": {
        "id": "gPAVrhdhoyU_"
      },
      "outputs": [],
      "source": [
        "ten.send(\"Can you answer this general question? Could you tell me about server status codes? What is the status code for internal errors\")"
      ]
    },
    {
      "cell_type": "code",
      "execution_count": null,
      "metadata": {
        "id": "CAimcEJcpBBB"
      },
      "outputs": [],
      "source": [
        "ten.send('Can you generate SQL for the following descriptionfor emailaccesslog table name. select all rows where status has internal server error codes?')"
      ]
    },
    {
      "cell_type": "markdown",
      "metadata": {
        "id": "8wE0p8x_pF0V"
      },
      "source": [
        "You can exexute this sql like this."
      ]
    },
    {
      "cell_type": "code",
      "execution_count": null,
      "metadata": {
        "id": "52b8xdl-VNF6"
      },
      "outputs": [],
      "source": [
        "ten.send(\"\"\"Execute this sql code.\n",
        "```\n",
        "SELECT *\n",
        "FROM emailaccesslog\n",
        "WHERE status >= 500 AND status < 600\n",
        "```\"\"\")"
      ]
    },
    {
      "cell_type": "markdown",
      "metadata": {
        "id": "oeA-ouQ3i7b-"
      },
      "source": [
        "Analyze can be used to analyze a given data."
      ]
    },
    {
      "cell_type": "code",
      "execution_count": null,
      "metadata": {
        "id": "pmjdxTGRw90x"
      },
      "outputs": [],
      "source": [
        "ten.send(\"Analyze the data to tell me the causes of internal server errors? Also tell me how they can be fixed\")"
      ]
    },
    {
      "cell_type": "markdown",
      "metadata": {
        "id": "i7_xlblq2yEm"
      },
      "source": [
        "Liten chatbot which can be launched as a cell in jupyter jupyter.  It looks at the data in memory and provides a way to chat with the data.\n",
        "Enterprise Liten product connects with a lakehouse data base in S3, and lets you analyze your data.\n",
        "You can launch the chatbot here. There are a few chatbot examples provided in the notes below for you to try it out."
      ]
    },
    {
      "cell_type": "code",
      "execution_count": null,
      "metadata": {
        "id": "dquTg0zTuE89"
      },
      "outputs": [],
      "source": [
        "hvplot.extension('bokeh')\n",
        "panel.extension('tabulator')\n",
        "chatbot= liten.ChatBot(ten)\n",
        "chatbot.start()"
      ]
    },
    {
      "cell_type": "markdown",
      "metadata": {
        "id": "kMa2ZsT42ARD"
      },
      "source": [
        "These are a few more example chats after this also that you can try."
      ]
    },
    {
      "cell_type": "markdown",
      "metadata": {
        "id": "H3sqTa-82Aqf"
      },
      "source": [
        "#### Status Code Analysis\n",
        "What status codes did the service see in a given time frame. Can we aggregated and view.\n",
        "#### Suggested Chat Flow\n",
        "Select emailaccesslog table from the menu </br>\n",
        "```\n",
        "User: Add temp to memdata\n",
        "```\n",
        "From dropdown box select temp\n",
        "```\n",
        "User: Generate sql code to select 100 rows from the table\n",
        "Bot: SELECT * FROM emailaccesslog LIMIT 100;\n",
        "User: Execute this sql\n",
        "'''\n",
        "SELECT * FROM emailaccesslog LIMIT 100;\n",
        "'''\n",
        "```\n",
        "Liten will execute the sql and store result in temp. It would also show a few lines of the result. You can now look at the plots\n",
        "```\n",
        "User: plot temp\n",
        "```\n",
        "In the interactive plot, select X=cpuLatency Y=payloadSize groupby status. You can visualize the results in an interactive way.\n",
        "You can also ask Liten to analyze the data\n",
        "```\n",
        "User: Analyze the data to find out for any status code errors. Can you also tell me how I can fix these.\n",
        "```\n",
        "Bot will provide an analysis.\n",
        "\n",
        "\n",
        "Now you can try a bit more complex SQL\n",
        "```\n",
        "User: Generate sql for the following prompt.\n",
        "How many 200, 300, 400, 500 status codes did the service see in last one year.\n",
        "```\n",
        "Bit will print out a SQL code. Now execute this\n",
        "```\n",
        "User: Execute this sql\n",
        "'''\n",
        "SELECT status, COUNT(*) as count FROM emailaccesslog WHERE\n",
        "time >= date_trunc('year', current_timestamp()) - interval '1 year'\n",
        "GROUP BY status HAVING status IN (200, 300, 400, 500)\n",
        "'''\n",
        "```\n",
        "Chat remembers the context. So, you can now mix it up with general asks.\n",
        "```\n",
        "User: Answer this general question.\n",
        "Can you modify the sql to look between july of 2023 and august of 2023\n",
        "```\n",
        "Bot gives a SQL you can now execute this.\n",
        "```\n",
        "Execute this sql\n",
        "'''\n",
        "SELECT status, COUNT(*) AS count FROM emailaccesslog WHERE time >= timestamp('2023-07-01') AND time < timestamp('2023-09-01') AND status IN (200, 300, 400, 500) GROUP BY status\n",
        "'''\n",
        "```\n",
        "It stores the result in temp. You can plot and view this as well. You can also analyze this data."
      ]
    },
    {
      "cell_type": "code",
      "execution_count": null,
      "metadata": {
        "id": "yk4bUowgI349"
      },
      "outputs": [],
      "source": []
    },
    {
      "cell_type": "markdown",
      "metadata": {
        "id": "fAeQD8bV2-hr"
      },
      "source": [
        "### Internal server error analysis\n",
        "Internal server error analysis for 5xx codes.\n",
        "#### Suggested chat flow\n",
        "Select emailaccesslog table\n",
        "```\n",
        "User: Answer this general question. Which status codes in server log file indicate internal server errors?\n",
        "```\n",
        "You can ask more questions to understand the bot response better.\n",
        "Now, let us generate sql for some error analysis\n",
        "```\n",
        "User: Generate sql to show all rows with 5xx range status code\n",
        "```\n",
        "You can also provide multiple steps in the same chat.\n",
        "```\n",
        "User: Now do the following. Generate sql to select all rows with status indicating internal server errors. Then, execute the sql. plot the output data next.\n",
        "```\n",
        "Bot will provide the sql code. You can execute this.\n",
        "```\n",
        "now execute\n",
        "```\n",
        "now you can plot.\n",
        "```\n",
        "plot this data\n",
        "```\n",
        "You can select X=cpuLatency Y=payloadSize group by errorCode to view the plot. It is an interactive plot, so it can be analyzed as needed\n",
        "You can also analyze this data. This data stores in temp memdata. This is also in the memdata dropdown. We can now analyze this data\n",
        "```\n",
        "User: Analyze data to understand more about error codes. For the given error codes, I want to understand more about why it happens and how it happened in the given data.\n",
        "```\n",
        "Bot will give a proper analysis and insights about the error in the given data."
      ]
    },
    {
      "cell_type": "markdown",
      "metadata": {
        "id": "qVd_8ZZ_IteV"
      },
      "source": [
        "Given below are a few more chat sessions that you can try out on server log tables."
      ]
    },
    {
      "cell_type": "markdown",
      "metadata": {
        "id": "s7ozSoc05dG-"
      },
      "source": [
        "### Highest traffic analysis\n",
        "Which day of the week usually has the highest traffic?\n",
        "\n",
        "#### Suggested chat flow\n",
        "Select emailaccesslog table\n",
        "```\n",
        "User: Generate sql to show the day of the week which had the highest traffic in last year?\n",
        "```\n",
        "Bot generated SQL is soemthing like this. Now you can execute this.\n",
        "```\n",
        "'''\n",
        "SELECT date_trunc('day', time) as day_of_week, COUNT(*) as traffic_count FROM emailaccesslog WHERE time >= date_sub(current_date(), 365) GROUP BY day_of_week ORDER BY traffic_count DESC LIMIT 1;\n",
        "'''\n",
        "```\n",
        "```\n",
        "Execute the generated sql\n",
        "```\n",
        "Now we can modify it further to drill down into the code.\n",
        "```\n",
        "User: Answer this general question. Modify the sql code to pick top 3 days of the week with highest traffic counts?\n",
        "```\n",
        "Bot can now generate the modified SQL.\n",
        "```\n",
        "'''\n",
        "SELECT date_trunc('day', time) as day_of_week, COUNT(*) as traffic_count FROM emailaccesslog WHERE time >= date_sub(current_date(), 365) GROUP BY day_of_week ORDER BY traffic_count DESC LIMIT 3;\n",
        "'''\n",
        "```\n",
        "Now you can execute this.\n",
        "```\n",
        "Execute the last generated sql\n",
        "```"
      ]
    },
    {
      "cell_type": "markdown",
      "metadata": {
        "id": "UScC7d5-6DOB"
      },
      "source": [
        "#### Highest traffic days\n",
        "Which time of day has most traffic?\n",
        "#### Suggested chat flow\n",
        "Select emailaccesslog table.\n",
        "```\n",
        "User: generate sql code to show the time of day with the most traffic. Use hour long time slots to get the traffic data.\n",
        "```\n",
        "Pick Bot generated SQL to run\n",
        "```\n",
        "User: execute this sql code.\n",
        "'''\n",
        "SELECT date_trunc('hour', time) AS time_slot, COUNT(*) AS traffic_count FROM emailaccesslog GROUP BY time_slot ORDER BY traffic_count DESC LIMIT 1\n",
        "'''\n",
        "```\n",
        "More analysis can be done on this data.\n",
        "```\n",
        "User: generate sql to show the  time of the day has most traffic. You can group time in 5 minutes chunk.\n",
        "```\n",
        "You can execute this as well\n",
        "```\n",
        "User: execute this sql\n",
        "'''\n",
        "SELECT date_trunc('hour', time) AS hour,\n",
        "       floor((date_part('minute', time) / 5)) * 5 AS minute_chunk,\n",
        "       COUNT(*) AS traffic_count\n",
        "FROM emailaccesslog\n",
        "GROUP BY hour, minute_chunk\n",
        "ORDER BY traffic_count DESC\n",
        "LIMIT 1;\n",
        "'''\n",
        "```"
      ]
    },
    {
      "cell_type": "markdown",
      "metadata": {
        "id": "blxRmonk6rOj"
      },
      "source": [
        "### Traffic flow variations\n",
        "How much did traffic increase or decrease in last 12 months.\n",
        "#### Suggested chat flow\n",
        "Select emailaccesslog table.\n",
        "```\n",
        "User: generate sql to show the following. How much did traffic increase or decrease in last 12 months.\n",
        "...\n",
        "...\n",
        "\n",
        "User: execute the following sql code\n",
        "'''\n",
        "SELECT\n",
        "  SUM(CASE WHEN DATE_TRUNC('month', time) >= DATE_TRUNC('month', CURRENT_DATE - INTERVAL 12 MONTH)\n",
        "           THEN 1 ELSE -1 END) AS traffic_change\n",
        "FROM\n",
        "  emailaccesslog;\n",
        "'''\n",
        "```\n",
        "\n"
      ]
    },
    {
      "cell_type": "markdown",
      "metadata": {
        "id": "MzbOjYJe6mPu"
      },
      "source": [
        "### Analyze all errors\n",
        "analyze all errors in emailaccesslog file\n",
        "#### Suggested chat flow\n",
        "Select emailaccesslog table.\n",
        "```\n",
        "User: generate sql to select all rows with errors\n",
        "....\n",
        "User: execute the following sql code.\n",
        "'''\n",
        "SELECT * FROM emailaccesslog WHERE errorCode IS NOT NULL OR detailedErrorCode IS NOT NULL\n",
        "'''\n",
        "User: plot\n",
        "## Look at plot -  select status as X, latency as y, group by errorCode do X as errorCode & latency as Y, group by status\n",
        "...\n",
        "User: Can you analyze the data. Please look at the error messages and code in the given data? Can you tell me types of errors occurring. Tell me what can cause it, and how to resolve it. Also tell me how I can avoid these errors.\n",
        "\n",
        "```\n"
      ]
    },
    {
      "cell_type": "markdown",
      "metadata": {
        "id": "ioEUh2MkQ8dn"
      },
      "source": [
        "syslog table has some lines from linux system log files. You can use this log file for syslog analysis. Here are a few suggested chat sessions."
      ]
    },
    {
      "cell_type": "markdown",
      "metadata": {
        "id": "25PJway86ugz"
      },
      "source": [
        "### Syslog last x hours analysis\n",
        "List all errors from syslog in last 'x' hours/days and suggest their solutions.\n",
        "Example: User is trying to install nginx but it errors out. Check log files and search for them on stackoverflow?\n",
        "\n",
        "#### Suggested chat flow\n",
        "Select syslog table\n",
        "\n",
        "```\n",
        "User: If there is error or fail in message column it means that there was an error. Write a  sql query to select only these rows.<br>\n",
        "...\n",
        "User: Execute the following sql\n",
        "'''\n",
        "SELECT * FROM syslog WHERE message LIKE '%error%' OR message LIKE '%fail%'<br>\n",
        "'''\n",
        "User: Can you analyze this data? I want to group the types of error being seen. In addition, suggest a solution as well.\n",
        "...\n",
        "You can see and analyze the data. You can also plot the data to see the errors and their frequency."
      ]
    },
    {
      "cell_type": "markdown",
      "metadata": {
        "id": "JTGNSJCe7Ugj"
      },
      "source": [
        "\n",
        "#### Linux syslog CRC error files\n",
        "Analyze CRC errors from system log files\n",
        "- Print all lines in syslog where you see an error. Print 4 or 5 lines before and after\n",
        "- Across all syslogs, identify when how many times RAM is shown CRC errors.\n",
        "- Write a script to read syslog and declare RAM corrupted if you see more than 10 errors in 24 hour time perod.\n",
        "\n",
        "#### Suggested chat flow\n",
        "Select syslog table\n",
        "```\n",
        "User: If there is error or fail in message column it means that there was an error. Write a query to select only these rows. Get an aggregated count grouped by the message column.\n",
        "...\n",
        "User: Execute the sql\n",
        "'''\n",
        "SELECT message, COUNT(*) AS error_count\n",
        "FROM syslog\n",
        "WHERE message LIKE '%error%' OR message LIKE '%fail%'\n",
        "GROUP BY message;\n",
        "\n",
        "SELECT *\n",
        "FROM syslog\n",
        "WHERE message LIKE '%fail%'\n",
        "'''\n",
        "You can also analyze this data now.\n",
        "```\n",
        "User: Analyze the data to tell me the types of authentication failures you see in the data? If possible tell me why it can happen and what can i do to avoid it?\n",
        "```\n",
        "...\n",
        "User: Answer this general question. In linux system log files, how can you know if RAM has had CRC errors. What errors are expected in the log file messages?\n",
        "....\n",
        "User: Please analyze data block. By looking at the linux log data, can you tell if there has been CRC errors in RAM.\n",
        "...\n",
        "\n",
        "...\n",
        "User: Declare RAM corrupted if you see more than 10 errors in 24 hour time period. Write a python script to do that.\n",
        "...\n",
        "```\n",
        "These are a few sample user queries given above."
      ]
    },
    {
      "cell_type": "markdown",
      "metadata": {
        "id": "0iBHbhTG7VpB"
      },
      "source": [
        "### Network log analysis\n",
        "A sample network log file is loaded as ipnetlog file.\n",
        "\n",
        "Various analysis can be done on this data using the chat. Some samples include\n",
        "* Newly opened TCP connections for hist\n",
        "* SuperSpreader\tHosts that contact more than threshold unique destinations\n",
        "Port Scan\tHosts that send traffic over more than threshold destination ports.\n",
        "* DDoS\tHosts that receive traffic from more than threshold unique sources.\n",
        "Syn Flood\tHosts for which the number of half-open TCP connections exceeds threshold Th.\n",
        "* Completed Flow\tHosts for which the number of incomplete TCP connections exceeds threshold.\n",
        "* Slowloris Attack\tHosts for which the average transfer rate per flow is below threshold.\n",
        "* DNS Tunneling\tHosts for which new TCP connections are not created after DNS query.\n",
        "* Zorro Attck\tHosts that receive “zorro” command after telnet brute force.\n",
        "* Reflection DNS\tHosts that receive DNS response of type RRSIG from many unique senders without requests.\n",
        "* Dns ttl tracking\tTrack TTL for DNS resource record names\n"
      ]
    },
    {
      "cell_type": "markdown",
      "metadata": {
        "id": "qQTnyaWx7Y6n"
      },
      "source": [
        "\n",
        "### Heavy Hitter\n",
        "Largest payload flows\n",
        "#### Suggested chat flow\n",
        "Select ipnetlog file.\n",
        "```\n",
        "User: Generate sql to select top 10 rows\n",
        "...\n",
        "User: Can you answer this general question? Tell me more about heavy hitters and what to look for to identify the heavy hitters.\n",
        "..\n",
        "User: generate sql to do the following. First select top rows with largest payload sizes. aggregate the payloads and group them by source ip address. select top 10 rows. Now select all the rows with all the fields from ipnetlog table having these source ip addresses.\n",
        "...\n",
        "User: execute this sql\n",
        "'''\n",
        "SELECT *\n",
        "FROM (\n",
        "    SELECT ip_src, SUM(CAST(ip_len AS INT)) AS total_payload\n",
        "    FROM ipnetlog\n",
        "    GROUP BY ip_src\n",
        "    ORDER BY total_payload DESC\n",
        "    LIMIT 10\n",
        ") AS top_sources\n",
        "JOIN ipnetlog ON top_sources.ip_src = ipnetlog.ip_src\n",
        "'''\n",
        "User: plot temp\n",
        "...\n",
        "User: Can you analyze the given data to see the heavy hitters? For these heavy hitters, can you tell if they look suspicious.\n",
        "```\n",
        "You can also ask for a high level plan before doing simple steps.\n",
        "```\n",
        "User: Please focus on identifying heavy hitters and guide me through the steps?\n",
        "```"
      ]
    },
    {
      "cell_type": "markdown",
      "metadata": {
        "id": "hGeLSu0-7c3z"
      },
      "source": [
        "### TCP New Conn\n",
        "Newly opened TCP connections for hist\n",
        "#### Suggested chat flow\n",
        "Select ipnetlog table\n",
        "```\n",
        "User: Answer this general question. How do we find a newly opened TCP connection from IP net logs?\n",
        "...\n",
        "User: Can you generate the SQL code to show the newly opened TCP connections?\n",
        "...\n",
        "User: Execute the following sql\n",
        "'''\n",
        "SELECT ip_src, ip_dst, MIN(time) AS earliest_timestamp\n",
        "FROM ipnetlog\n",
        "WHERE ip_proto = 'TCP'\n",
        "GROUP BY ip_src, ip_dst\n",
        "ORDER BY earliest_timestamp\n",
        "'''\n",
        "...\n",
        "```"
      ]
    },
    {
      "cell_type": "markdown",
      "metadata": {
        "id": "jG1tyfBO7hcx"
      },
      "source": [
        "###SSH Brute\n",
        "Number of unique senders sending hosts that similar-sized packets\n",
        "#### Suggested chat flow\n",
        "Select ipnetlog table\n",
        "User can now go ahead and do an analysis.\n",
        "```\n",
        "User: Can you plan to understand SSH brute force issues? How should i look at data to be able to do that?\n",
        "```\n",
        "User can look at the data observe and analyze it."
      ]
    }
  ],
  "metadata": {
    "colab": {
      "name": "litenai_log_reasoning.ipynb",
      "provenance": []
    },
    "kernelspec": {
      "display_name": "Python 3 (ipykernel)",
      "language": "python",
      "name": "python3"
    },
    "language_info": {
      "codemirror_mode": {
        "name": "ipython",
        "version": 3
      },
      "file_extension": ".py",
      "mimetype": "text/x-python",
      "name": "python",
      "nbconvert_exporter": "python",
      "pygments_lexer": "ipython3",
      "version": "3.10.12"
    }
  },
  "nbformat": 4,
  "nbformat_minor": 0
}